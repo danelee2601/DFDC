{
 "cells": [
  {
   "cell_type": "code",
   "execution_count": 2,
   "metadata": {},
   "outputs": [],
   "source": [
    "from main import run\n",
    "import re"
   ]
  },
  {
   "cell_type": "code",
   "execution_count": 4,
   "metadata": {},
   "outputs": [
    {
     "name": "stdout",
     "output_type": "stream",
     "text": [
      "\n",
      "==============================================================================\n",
      " DFDC (Ducted Fan Design Code) is an aerodynamic and aeroacoustic design\n",
      " and analysis tool for aircraft with propulsors in ducted fan configurations.\n",
      " \n",
      " This software was developed under the auspices and sponsorship of the\n",
      " Tactical Technology Office (TTO) of the Defense Advanced Research\n",
      " Projects Agency (DARPA).\n",
      " \n",
      " Copyright (c) 2004, 2005, Booz Allen Hamilton Inc., All Rights Reserved\n",
      " \n",
      " This program is free software; you can redistribute it and/or modify it\n",
      " under the terms of the GNU General Public License as published by the\n",
      " Free Software Foundation; either version 2 of the License, or (at your\n",
      " option) any later version.\n",
      " \n",
      " This program is distributed in the hope that it will be useful, but\n",
      " WITHOUT ANY WARRANTY; without even the implied warranty of\n",
      " MERCHANTABILITY or FITNESS FOR A PARTICULAR PURPOSE.  See the GNU\n",
      " General Public License for more details.\n",
      " \n",
      " You should have received a copy of the GNU General Public License along\n",
      " with this program; if not, write to the Free Software Foundation, Inc.,\n",
      " 59 Temple Place, Suite 330, Boston, MA 02111-1307 USA\n",
      " \n",
      " Authors: Harold Youngren (guppy@maine.rr.com), Mark Drela (drela@mit.edu)\n",
      " Program Management: Brad Tousley, Paul Eremenko (eremenko@alum.mit.edu)\n",
      "==============================================================================\n",
      "\n",
      " =========================\n",
      "   DFDC Version 0.70\n",
      " =========================\n",
      "\n",
      "\n",
      " =========================================================\n",
      "\n",
      "  QUIT   Exit program\n",
      "\n",
      "  LOAD f Read ducted fan case from file\n",
      "  SAVE f Write current ducted fan case to file\n",
      "\n",
      " .OPER   Direct operating point(s)\n",
      " .GDES   Geometry design facility\n",
      " .QDES   Mixed-inverse design facility\n",
      "\n",
      "  PANE   Regenerate paneled geometry from buffer geometry\n",
      " .PPAR   Show/change paneling\n",
      "  PCOP   Copy buffer geometry directly into paneling\n",
      "  PWRT f Write paneling parameters to disk file\n",
      "  PGET f Get paneling parameters from disk file\n",
      "\n",
      " .PLOP   Plotting options\n",
      "  NAME s Change case name\n",
      "  INIT   Reinitialize DFDC\n",
      "  DEBU   toggle debugging flag\n",
      "\n",
      " DFDC   c>   Reading file from DFDC Version  0.50\n",
      " OPER data read from file\n",
      "  Qinf   =   0.0000000E+00\n",
      "  Qref   =    50.00000    \n",
      "  RPM    =    8000.000      0.0000000E+00\n",
      "  Rho    =    1.226000    \n",
      "  VSound =    340.0000    \n",
      "  rMU    =   1.7799999E-05\n",
      "  Alt    =   0.0000000E+00\n",
      "  Xdwake =   0.8000000    \n",
      "  Nwake  =           20\n",
      " AERO data read for disk #            1  # sections            1\n",
      " ACTDISK data read from file\n",
      "  XDisk         =   0.1548500    \n",
      "  #Rotor points =           11\n",
      " Actuator disk defined with #points =           10\n",
      "    R           BGAM\n",
      "     0.050093    11.174000\n",
      "     0.060424    11.174000\n",
      "     0.070755    11.174000\n",
      "     0.081086    11.174000\n",
      "     0.091417    11.174000\n",
      "     0.101750    11.174000\n",
      "     0.112080    11.174000\n",
      "     0.122410    11.174000\n",
      "     0.132740    11.174000\n",
      "     0.143070    11.174000\n",
      "\n",
      " Reading airfoil: FatDuct@3deg + CB test case                                 \n",
      " \n",
      " OPEN error on panel-parameter file sample2.pan\n",
      " No repaneling parameters from file sample2.pan\n",
      "\n",
      " DFDC   c>  \n",
      " =============================================================\n",
      "\n",
      "  Element   1\n",
      "  __________________________________________________\n",
      "\n",
      "   Z oom\n",
      "   U nzoom\n",
      "\n",
      "   N i   number of panel nodes            38\n",
      "   D rr  left,right end-spacing ratios   0.600  0.600\n",
      "   C r   curvature scaling exponent        1.0000\n",
      "   S r   curvature smoothing factor        1.0000\n",
      "   # rrr local refinement parameters...\n",
      "\n",
      "  Enter  key, parameters  (<Return> if spacing OK)   c>  \n",
      "  ........................................................\n",
      "\n",
      "  Number of panel nodes =   40\n",
      "  Prescribed panel node spacing parameters ...\n",
      "     dsL/dsAvg =  0.600      dsR/dsAvg =  0.600\n",
      "    curvature scaling exponent =  1.0000\n",
      "    curvature smoothing factor =  1.0000\n",
      "\n",
      "  Actual resulting surface spacings ...\n",
      "     dsL/dsAvg =  0.7874     dsR/dsAvg =  0.5882\n",
      "   dsmin/dsAvg =  0.5514   dsmax/dsAvg =  1.2851\n",
      "\n",
      " X-window size changed to  11.00\" x  8.28\"\n",
      "  __________________________________________________\n",
      "\n",
      "   Z oom\n",
      "   U nzoom\n",
      "\n",
      "   N i   number of panel nodes            40\n",
      "   D rr  left,right end-spacing ratios   0.600  0.600\n",
      "   C r   curvature scaling exponent        1.0000\n",
      "   S r   curvature smoothing factor        1.0000\n",
      "   # rrr local refinement parameters...\n",
      "\n",
      "  Enter  key, parameters  (<Return> if spacing OK)   c>  \n",
      " =============================================================\n",
      "\n",
      "  Element   2\n",
      "  __________________________________________________\n",
      "\n",
      "   Z oom\n",
      "   U nzoom\n",
      "\n",
      "   N i   number of panel nodes            66\n",
      "   D rr  left,right end-spacing ratios   0.600  0.600\n",
      "   C r   curvature scaling exponent        1.0000\n",
      "   S r   curvature smoothing factor        1.0000\n",
      "   # rrr local refinement parameters...\n",
      "\n",
      "  Enter  key, parameters  (<Return> if spacing OK)   c>  \n",
      "  ........................................................\n",
      "\n",
      "  Number of panel nodes =   40\n",
      "  Prescribed panel node spacing parameters ...\n",
      "     dsL/dsAvg =  0.600      dsR/dsAvg =  0.600\n",
      "    curvature scaling exponent =  1.0000\n",
      "    curvature smoothing factor =  1.0000\n",
      "\n",
      "  Actual resulting surface spacings ...\n",
      "     dsL/dsAvg =  0.9309     dsR/dsAvg =  1.0090\n",
      "   dsmin/dsAvg =  0.3797   dsmax/dsAvg =  1.3937\n",
      "  __________________________________________________\n",
      "\n",
      "   Z oom\n",
      "   U nzoom\n",
      "\n",
      "   N i   number of panel nodes            40\n",
      "   D rr  left,right end-spacing ratios   0.600  0.600\n",
      "   C r   curvature scaling exponent        1.0000\n",
      "   S r   curvature smoothing factor        1.0000\n",
      "   # rrr local refinement parameters...\n",
      "\n",
      "  Enter  key, parameters  (<Return> if spacing OK)   c>  \n",
      " DFDC   c>   Repaneling buffer geometry\n",
      "\n",
      " =============================================================\n",
      "\n",
      "  Element   1\n",
      "\n",
      "  ........................................................\n",
      "\n",
      "  Number of panel nodes =   40\n",
      "  Prescribed panel node spacing parameters ...\n",
      "     dsL/dsAvg =  0.600      dsR/dsAvg =  0.600\n",
      "    curvature scaling exponent =  1.0000\n",
      "    curvature smoothing factor =  1.0000\n",
      "\n",
      "  Actual resulting surface spacings ...\n",
      "     dsL/dsAvg =  0.7874     dsR/dsAvg =  0.5882\n",
      "   dsmin/dsAvg =  0.5514   dsmax/dsAvg =  1.2851\n",
      "\n",
      " =============================================================\n",
      "\n",
      "  Element   2\n",
      "\n",
      "  ........................................................\n",
      "\n",
      "  Number of panel nodes =   40\n",
      "  Prescribed panel node spacing parameters ...\n",
      "     dsL/dsAvg =  0.600      dsR/dsAvg =  0.600\n",
      "    curvature scaling exponent =  1.0000\n",
      "    curvature smoothing factor =  1.0000\n",
      "\n",
      "  Actual resulting surface spacings ...\n",
      "     dsL/dsAvg =  0.9309     dsR/dsAvg =  1.0090\n",
      "   dsmin/dsAvg =  0.3797   dsmax/dsAvg =  1.3937\n",
      " \n",
      " Grid relaxation iteration\n",
      "          10   Dmax =   5.4520100E-05   1.000000    \n",
      "          20   Dmax =   9.5849073E-06   1.000000    \n",
      "          30   Dmax =   1.9345343E-06   1.000000    \n",
      "          40   Dmax =   4.9481616E-07   1.000000    \n",
      "\n",
      ".OPERi   c>   Using actuator disk...\n",
      "  1 dGTHmax=  28.20699 @IP= 120 RLX= 0.40000\n",
      "  2 dGTHmax=  15.96782 @IP= 120 RLX= 0.48000\n",
      "  3 dGTHmax=   7.38209 @IP= 120 RLX= 0.48000\n",
      "  4 dGTHmax=   3.33296 @IP= 120 RLX= 0.24000\n",
      "  5 dGTHmax=   1.49442 @IP= 120 RLX= 0.48000\n",
      "  6 dGTHmax=   0.66752 @IP= 120 RLX= 0.48000\n",
      "  7 dGTHmax=   0.29781 @IP= 120 RLX= 0.48000\n",
      "  8 dGTHmax=   0.13275 @IP= 120 RLX= 0.48000\n",
      "  9 dGTHmax=   0.05916 @IP= 119 RLX= 0.48000\n",
      " 10 dGTHmax=   0.02638 @IP= 118 RLX= 0.48000\n",
      " 11 dGTHmax=   0.01176 @IP= 117 RLX= 0.48000\n",
      " 12 dGTHmax=   0.00525 @IP= 117 RLX= 0.48000\n",
      "\n",
      " ==============================================================================\n",
      " DFDC  Case:  Sample Duct@3deg+CB w. actuator \n",
      "\n",
      " ------------------------------------------------------------------------------\n",
      " Flow condition and total forces\n",
      "\n",
      "  Vinf(m/s) :     0.000    Alt.(km)   :    0.000   DeltaT(dgC):   0.0000\n",
      " rho(kg/m3) :   1.22600    Vsound(m/s):  340.000     mu(kg/m-s) : 0.1780E-04\n",
      " Thrust(N)  :   180.       Power(W)   :  0.566E+04   Efficiency :   0.0000\n",
      " Tvisc (N)  :     0.0000   Pvisc(W)   :   0.00       Induced Eff:   0.0000\n",
      " Tduct(N)   :    79.9831   torQue(N-m):   6.75       Ideal Eff  :   0.0000\n",
      "\n",
      "  Area:    0.06269  Radius:    0.14824 Omega:  837.75806  Reference data\n",
      "    Ct:    1.06881      Cp:    0.84980     J:    0.00000  by(Rho,N,Dia)\n",
      "    Tc:    0.00000      Pc:    0.00000   adv:    0.00000  by(Rho,Vinf,Area)  \n",
      "   CT0:    0.15183     CP0:    0.03843   FOM:    0.76980  by(Rho,R*Omg,Area)\n",
      " ------------------------------------------------------------------------------\n",
      " Disk #   1     Actuator Disk Rotor           \n",
      " # blades   :  5           RPM        :   8000.000    adv. ratio:   0.0000\n",
      " Thrust(N)  :   100.       Power(W)   :  0.566E+04   Efficiency :   0.0000\n",
      " Tvisc (N)  :     0.0000   Pvisc(W)   :   0.00       Induced Eff:   0.0000\n",
      " torQue(N-m):     6.7523   Qvisc(N-m) :   6.75       Ideal Eff  :   0.0000\n",
      " radius(m)  :   0.1482     hub rad.(m):   0.0449     VAavg (m/s):  49.3978\n",
      "\n",
      "  Area:    0.06269  Radius:    0.14824 Omega:  837.75806  Reference data\n",
      "    Ct:    0.59383      Cp:    0.84980     J:    0.00000  by(Rho,N,Dia)\n",
      "    Tc:    0.00000      Pc:    0.00000   adv:    0.00000  by(Rho,Vinf,Area)  \n",
      "   CT0:    0.08436     CP0:    0.03843                    by(Rho,R*Omg,Area)\n",
      " Sigma:    0.00000 CT0/Sig:    0.00000\n",
      " ------------------------------------------------------------------------------\n",
      "   i    r/R     c/R  beta(deg)      CL       Cd     RE        Mach      B*Gam\n",
      "   1  0.338                                                   0.161     11.174\n",
      "   2  0.408                                                   0.179     11.174\n",
      "   3  0.477                                                   0.199     11.174\n",
      "   4  0.547                                                   0.221     11.174\n",
      "   5  0.617                                                   0.244     11.174\n",
      "   6  0.686                                                   0.268     11.174\n",
      "   7  0.756                                                   0.292     11.174\n",
      "   8  0.826                                                   0.316     11.174\n",
      "   9  0.895                                                   0.340     11.174\n",
      "  10  0.965                                                   0.365     11.174\n",
      "\n",
      ".OPERi   c>  \n"
     ]
    }
   ],
   "source": [
    "commands = ['load sample2.case',\n",
    "                'ppar',\n",
    "                'n 40',\n",
    "                '',\n",
    "                'n 40',\n",
    "                '',\n",
    "                'oper',\n",
    "                'e']\n",
    "\n",
    "p = run(commands)\n",
    "#print(p.returncode)\n",
    "print(p.stdout)"
   ]
  },
  {
   "cell_type": "code",
   "execution_count": 36,
   "metadata": {},
   "outputs": [
    {
     "data": {
      "text/plain": [
       "'Thrust:  100.'"
      ]
     },
     "execution_count": 36,
     "metadata": {},
     "output_type": "execute_result"
    }
   ],
   "source": [
    "txt = 'Thrust: \\n 100.'.replace('\\n', '')\n",
    "txt"
   ]
  },
  {
   "cell_type": "code",
   "execution_count": 99,
   "metadata": {},
   "outputs": [],
   "source": [
    "txt = 'Thrust(N)  :   180.12'"
   ]
  },
  {
   "cell_type": "code",
   "execution_count": 100,
   "metadata": {
    "scrolled": true
   },
   "outputs": [
    {
     "data": {
      "text/plain": [
       "['180.12']"
      ]
     },
     "execution_count": 100,
     "metadata": {},
     "output_type": "execute_result"
    }
   ],
   "source": [
    "re.findall(r'Thrust\\(N\\)\\s+\\:\\s+(\\d+.\\d*)', txt)"
   ]
  },
  {
   "cell_type": "code",
   "execution_count": 39,
   "metadata": {
    "scrolled": true
   },
   "outputs": [
    {
     "data": {
      "text/plain": [
       "'============================================================================== DFDC (Ducted Fan Design Code) is an aerodynamic and aeroacoustic design and analysis tool for aircraft with propulsors in ducted fan configurations.  This software was developed under the auspices and sponsorship of the Tactical Technology Office (TTO) of the Defense Advanced Research Projects Agency (DARPA).  Copyright (c) 2004, 2005, Booz Allen Hamilton Inc., All Rights Reserved  This program is free software; you can redistribute it and/or modify it under the terms of the GNU General Public License as published by the Free Software Foundation; either version 2 of the License, or (at your option) any later version.  This program is distributed in the hope that it will be useful, but WITHOUT ANY WARRANTY; without even the implied warranty of MERCHANTABILITY or FITNESS FOR A PARTICULAR PURPOSE.  See the GNU General Public License for more details.  You should have received a copy of the GNU General Public License along with this program; if not, write to the Free Software Foundation, Inc., 59 Temple Place, Suite 330, Boston, MA 02111-1307 USA  Authors: Harold Youngren (guppy@maine.rr.com), Mark Drela (drela@mit.edu) Program Management: Brad Tousley, Paul Eremenko (eremenko@alum.mit.edu)============================================================================== =========================   DFDC Version 0.70 ========================= =========================================================  QUIT   Exit program  LOAD f Read ducted fan case from file  SAVE f Write current ducted fan case to file .OPER   Direct operating point(s) .GDES   Geometry design facility .QDES   Mixed-inverse design facility  PANE   Regenerate paneled geometry from buffer geometry .PPAR   Show/change paneling  PCOP   Copy buffer geometry directly into paneling  PWRT f Write paneling parameters to disk file  PGET f Get paneling parameters from disk file .PLOP   Plotting options  NAME s Change case name  INIT   Reinitialize DFDC  DEBU   toggle debugging flag DFDC   c>   Reading file from DFDC Version  0.50 OPER data read from file  Qinf   =   0.0000000E+00  Qref   =    50.00000      RPM    =    8000.000      0.0000000E+00  Rho    =    1.226000      VSound =    340.0000      rMU    =   1.7799999E-05  Alt    =   0.0000000E+00  Xdwake =   0.8000000      Nwake  =           20 AERO data read for disk #            1  # sections            1 ACTDISK data read from file  XDisk         =   0.1548500      #Rotor points =           11 Actuator disk defined with #points =           10    R           BGAM     0.050093    11.174000     0.060424    11.174000     0.070755    11.174000     0.081086    11.174000     0.091417    11.174000     0.101750    11.174000     0.112080    11.174000     0.122410    11.174000     0.132740    11.174000     0.143070    11.174000 Reading airfoil: FatDuct@3deg + CB test case                                   OPEN error on panel-parameter file sample2.pan No repaneling parameters from file sample2.pan DFDC   c>   =============================================================  Element   1  __________________________________________________   Z oom   U nzoom   N i   number of panel nodes            38   D rr  left,right end-spacing ratios   0.600  0.600   C r   curvature scaling exponent        1.0000   S r   curvature smoothing factor        1.0000   # rrr local refinement parameters...  Enter  key, parameters  (<Return> if spacing OK)   c>    ........................................................  Number of panel nodes =   40  Prescribed panel node spacing parameters ...     dsL/dsAvg =  0.600      dsR/dsAvg =  0.600    curvature scaling exponent =  1.0000    curvature smoothing factor =  1.0000  Actual resulting surface spacings ...     dsL/dsAvg =  0.7874     dsR/dsAvg =  0.5882   dsmin/dsAvg =  0.5514   dsmax/dsAvg =  1.2851 X-window size changed to  11.00\" x  8.28\"  __________________________________________________   Z oom   U nzoom   N i   number of panel nodes            40   D rr  left,right end-spacing ratios   0.600  0.600   C r   curvature scaling exponent        1.0000   S r   curvature smoothing factor        1.0000   # rrr local refinement parameters...  Enter  key, parameters  (<Return> if spacing OK)   c>   =============================================================  Element   2  __________________________________________________   Z oom   U nzoom   N i   number of panel nodes            66   D rr  left,right end-spacing ratios   0.600  0.600   C r   curvature scaling exponent        1.0000   S r   curvature smoothing factor        1.0000   # rrr local refinement parameters...  Enter  key, parameters  (<Return> if spacing OK)   c>    ........................................................  Number of panel nodes =   40  Prescribed panel node spacing parameters ...     dsL/dsAvg =  0.600      dsR/dsAvg =  0.600    curvature scaling exponent =  1.0000    curvature smoothing factor =  1.0000  Actual resulting surface spacings ...     dsL/dsAvg =  0.9309     dsR/dsAvg =  1.0090   dsmin/dsAvg =  0.3797   dsmax/dsAvg =  1.3937  __________________________________________________   Z oom   U nzoom   N i   number of panel nodes            40   D rr  left,right end-spacing ratios   0.600  0.600   C r   curvature scaling exponent        1.0000   S r   curvature smoothing factor        1.0000   # rrr local refinement parameters...  Enter  key, parameters  (<Return> if spacing OK)   c>   DFDC   c>   Repaneling buffer geometry =============================================================  Element   1  ........................................................  Number of panel nodes =   40  Prescribed panel node spacing parameters ...     dsL/dsAvg =  0.600      dsR/dsAvg =  0.600    curvature scaling exponent =  1.0000    curvature smoothing factor =  1.0000  Actual resulting surface spacings ...     dsL/dsAvg =  0.7874     dsR/dsAvg =  0.5882   dsmin/dsAvg =  0.5514   dsmax/dsAvg =  1.2851 =============================================================  Element   2  ........................................................  Number of panel nodes =   40  Prescribed panel node spacing parameters ...     dsL/dsAvg =  0.600      dsR/dsAvg =  0.600    curvature scaling exponent =  1.0000    curvature smoothing factor =  1.0000  Actual resulting surface spacings ...     dsL/dsAvg =  0.9309     dsR/dsAvg =  1.0090   dsmin/dsAvg =  0.3797   dsmax/dsAvg =  1.3937  Grid relaxation iteration          10   Dmax =   5.4520100E-05   1.000000              20   Dmax =   9.5849073E-06   1.000000              30   Dmax =   1.9345343E-06   1.000000              40   Dmax =   4.9481616E-07   1.000000    .OPERi   c>   Using actuator disk...  1 dGTHmax=  28.20699 @IP= 120 RLX= 0.40000  2 dGTHmax=  15.96782 @IP= 120 RLX= 0.48000  3 dGTHmax=   7.38209 @IP= 120 RLX= 0.48000  4 dGTHmax=   3.33296 @IP= 120 RLX= 0.24000  5 dGTHmax=   1.49442 @IP= 120 RLX= 0.48000  6 dGTHmax=   0.66752 @IP= 120 RLX= 0.48000  7 dGTHmax=   0.29781 @IP= 120 RLX= 0.48000  8 dGTHmax=   0.13275 @IP= 120 RLX= 0.48000  9 dGTHmax=   0.05916 @IP= 119 RLX= 0.48000 10 dGTHmax=   0.02638 @IP= 118 RLX= 0.48000 11 dGTHmax=   0.01176 @IP= 117 RLX= 0.48000 12 dGTHmax=   0.00525 @IP= 117 RLX= 0.48000 ============================================================================== DFDC  Case:  Sample Duct@3deg+CB w. actuator  ------------------------------------------------------------------------------ Flow condition and total forces  Vinf(m/s) :     0.000    Alt.(km)   :    0.000   DeltaT(dgC):   0.0000 rho(kg/m3) :   1.22600    Vsound(m/s):  340.000     mu(kg/m-s) : 0.1780E-04 Thrust(N)  :   180.       Power(W)   :  0.566E+04   Efficiency :   0.0000 Tvisc (N)  :     0.0000   Pvisc(W)   :   0.00       Induced Eff:   0.0000 Tduct(N)   :    79.9831   torQue(N-m):   6.75       Ideal Eff  :   0.0000  Area:    0.06269  Radius:    0.14824 Omega:  837.75806  Reference data    Ct:    1.06881      Cp:    0.84980     J:    0.00000  by(Rho,N,Dia)    Tc:    0.00000      Pc:    0.00000   adv:    0.00000  by(Rho,Vinf,Area)     CT0:    0.15183     CP0:    0.03843   FOM:    0.76980  by(Rho,R*Omg,Area) ------------------------------------------------------------------------------ Disk #   1     Actuator Disk Rotor            # blades   :  5           RPM        :   8000.000    adv. ratio:   0.0000 Thrust(N)  :   100.       Power(W)   :  0.566E+04   Efficiency :   0.0000 Tvisc (N)  :     0.0000   Pvisc(W)   :   0.00       Induced Eff:   0.0000 torQue(N-m):     6.7523   Qvisc(N-m) :   6.75       Ideal Eff  :   0.0000 radius(m)  :   0.1482     hub rad.(m):   0.0449     VAavg (m/s):  49.3978  Area:    0.06269  Radius:    0.14824 Omega:  837.75806  Reference data    Ct:    0.59383      Cp:    0.84980     J:    0.00000  by(Rho,N,Dia)    Tc:    0.00000      Pc:    0.00000   adv:    0.00000  by(Rho,Vinf,Area)     CT0:    0.08436     CP0:    0.03843                    by(Rho,R*Omg,Area) Sigma:    0.00000 CT0/Sig:    0.00000 ------------------------------------------------------------------------------   i    r/R     c/R  beta(deg)      CL       Cd     RE        Mach      B*Gam   1  0.338                                                   0.161     11.174   2  0.408                                                   0.179     11.174   3  0.477                                                   0.199     11.174   4  0.547                                                   0.221     11.174   5  0.617                                                   0.244     11.174   6  0.686                                                   0.268     11.174   7  0.756                                                   0.292     11.174   8  0.826                                                   0.316     11.174   9  0.895                                                   0.340     11.174  10  0.965                                                   0.365     11.174.OPERi   c>'"
      ]
     },
     "execution_count": 39,
     "metadata": {},
     "output_type": "execute_result"
    }
   ],
   "source": [
    "p.stdout.strip().replace('\\n', '')"
   ]
  },
  {
   "cell_type": "code",
   "execution_count": 103,
   "metadata": {},
   "outputs": [],
   "source": [
    "out = p.stdout.strip().replace('\\n', '')"
   ]
  },
  {
   "cell_type": "code",
   "execution_count": 104,
   "metadata": {
    "scrolled": true
   },
   "outputs": [
    {
     "data": {
      "text/plain": [
       "180.0"
      ]
     },
     "execution_count": 104,
     "metadata": {},
     "output_type": "execute_result"
    }
   ],
   "source": [
    "total_thrust = float(re.findall(r'Thrust\\(N\\)\\s+\\:\\s+(\\d+.\\d*?)', out)[0])\n",
    "total_thrust"
   ]
  },
  {
   "cell_type": "code",
   "execution_count": 105,
   "metadata": {
    "scrolled": true
   },
   "outputs": [
    {
     "data": {
      "text/plain": [
       "6.75"
      ]
     },
     "execution_count": 105,
     "metadata": {},
     "output_type": "execute_result"
    }
   ],
   "source": [
    "total_torque = float(re.findall(r'torQue\\(N-m\\)\\:\\s+(\\d+.\\d*)', out)[0])\n",
    "total_torque "
   ]
  },
  {
   "cell_type": "code",
   "execution_count": null,
   "metadata": {},
   "outputs": [],
   "source": []
  },
  {
   "cell_type": "code",
   "execution_count": null,
   "metadata": {},
   "outputs": [],
   "source": []
  },
  {
   "cell_type": "code",
   "execution_count": null,
   "metadata": {},
   "outputs": [],
   "source": []
  },
  {
   "cell_type": "markdown",
   "metadata": {},
   "source": [
    "---"
   ]
  },
  {
   "cell_type": "code",
   "execution_count": null,
   "metadata": {},
   "outputs": [],
   "source": [
    "total_torque = float(re.findall(r'torQue\\(N-m\\)\\:\\s+(\\d+.[\\d+]?)', out)[0])\n",
    "total_torque "
   ]
  },
  {
   "cell_type": "code",
   "execution_count": null,
   "metadata": {},
   "outputs": [],
   "source": []
  },
  {
   "cell_type": "code",
   "execution_count": 40,
   "metadata": {},
   "outputs": [
    {
     "data": {
      "text/plain": [
       "[]"
      ]
     },
     "execution_count": 40,
     "metadata": {},
     "output_type": "execute_result"
    }
   ],
   "source": [
    "re.findall(r'Thrust(N)', p.stdout.strip().replace('\\n', ''))"
   ]
  },
  {
   "cell_type": "code",
   "execution_count": 7,
   "metadata": {},
   "outputs": [
    {
     "data": {
      "text/plain": [
       "[]"
      ]
     },
     "execution_count": 7,
     "metadata": {},
     "output_type": "execute_result"
    }
   ],
   "source": [
    "re.findall(r'Thrust(N) \\s +:\\s+(\\d+).', p.stdout)"
   ]
  }
 ],
 "metadata": {
  "kernelspec": {
   "display_name": "Python 3",
   "language": "python",
   "name": "python3"
  },
  "language_info": {
   "codemirror_mode": {
    "name": "ipython",
    "version": 3
   },
   "file_extension": ".py",
   "mimetype": "text/x-python",
   "name": "python",
   "nbconvert_exporter": "python",
   "pygments_lexer": "ipython3",
   "version": "3.7.4"
  }
 },
 "nbformat": 4,
 "nbformat_minor": 2
}
